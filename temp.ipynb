{
 "cells": [
  {
   "cell_type": "code",
   "execution_count": 1,
   "metadata": {},
   "outputs": [
    {
     "name": "stdout",
     "output_type": "stream",
     "text": [
      "Requirement already satisfied: pandas in c:\\users\\paulw\\anaconda3\\envs\\semantic_scanner\\lib\\site-packages (2.1.4)\n",
      "Requirement already satisfied: numpy<2,>=1.22.4 in c:\\users\\paulw\\anaconda3\\envs\\semantic_scanner\\lib\\site-packages (from pandas) (1.26.3)\n",
      "Requirement already satisfied: python-dateutil>=2.8.2 in c:\\users\\paulw\\anaconda3\\envs\\semantic_scanner\\lib\\site-packages (from pandas) (2.8.2)\n",
      "Requirement already satisfied: pytz>=2020.1 in c:\\users\\paulw\\anaconda3\\envs\\semantic_scanner\\lib\\site-packages (from pandas) (2023.3.post1)\n",
      "Requirement already satisfied: tzdata>=2022.1 in c:\\users\\paulw\\anaconda3\\envs\\semantic_scanner\\lib\\site-packages (from pandas) (2023.4)\n",
      "Requirement already satisfied: six>=1.5 in c:\\users\\paulw\\anaconda3\\envs\\semantic_scanner\\lib\\site-packages (from python-dateutil>=2.8.2->pandas) (1.16.0)\n",
      "Note: you may need to restart the kernel to use updated packages.\n"
     ]
    }
   ],
   "source": [
    "%pip install pandas"
   ]
  },
  {
   "cell_type": "code",
   "execution_count": 2,
   "metadata": {},
   "outputs": [],
   "source": [
    "import pandas as pd\n",
    "\n",
    "df = pd.read_csv(r\"C:\\Users\\paulw\\Documents\\QuantSpark\\semantic_scanner\\data\\Poem_classification - train_data.csv\")"
   ]
  },
  {
   "cell_type": "code",
   "execution_count": 3,
   "metadata": {},
   "outputs": [],
   "source": [
    "df = df.dropna()"
   ]
  },
  {
   "cell_type": "code",
   "execution_count": 4,
   "metadata": {},
   "outputs": [],
   "source": [
    "df[\"verify_class\"] = \"\"\n",
    "df[\"extract_text\"] = \"\""
   ]
  },
  {
   "cell_type": "code",
   "execution_count": 5,
   "metadata": {},
   "outputs": [
    {
     "data": {
      "text/html": [
       "<div>\n",
       "<style scoped>\n",
       "    .dataframe tbody tr th:only-of-type {\n",
       "        vertical-align: middle;\n",
       "    }\n",
       "\n",
       "    .dataframe tbody tr th {\n",
       "        vertical-align: top;\n",
       "    }\n",
       "\n",
       "    .dataframe thead th {\n",
       "        text-align: right;\n",
       "    }\n",
       "</style>\n",
       "<table border=\"1\" class=\"dataframe\">\n",
       "  <thead>\n",
       "    <tr style=\"text-align: right;\">\n",
       "      <th></th>\n",
       "      <th>Genre</th>\n",
       "      <th>Poem</th>\n",
       "      <th>verify_class</th>\n",
       "      <th>extract_text</th>\n",
       "    </tr>\n",
       "  </thead>\n",
       "  <tbody>\n",
       "    <tr>\n",
       "      <th>1</th>\n",
       "      <td>Music</td>\n",
       "      <td>In the thick brushthey spend the...</td>\n",
       "      <td></td>\n",
       "      <td></td>\n",
       "    </tr>\n",
       "    <tr>\n",
       "      <th>2</th>\n",
       "      <td>Music</td>\n",
       "      <td>Storms are generous.                       ...</td>\n",
       "      <td></td>\n",
       "      <td></td>\n",
       "    </tr>\n",
       "    <tr>\n",
       "      <th>3</th>\n",
       "      <td>Music</td>\n",
       "      <td>—After Ana Mendieta Did you carry around the ...</td>\n",
       "      <td></td>\n",
       "      <td></td>\n",
       "    </tr>\n",
       "    <tr>\n",
       "      <th>4</th>\n",
       "      <td>Music</td>\n",
       "      <td>for Aja Sherrard at 20The portent may itself ...</td>\n",
       "      <td></td>\n",
       "      <td></td>\n",
       "    </tr>\n",
       "    <tr>\n",
       "      <th>5</th>\n",
       "      <td>Music</td>\n",
       "      <td>for Bob Marley, Bavaria, November 1980 Here i...</td>\n",
       "      <td></td>\n",
       "      <td></td>\n",
       "    </tr>\n",
       "    <tr>\n",
       "      <th>...</th>\n",
       "      <td>...</td>\n",
       "      <td>...</td>\n",
       "      <td>...</td>\n",
       "      <td>...</td>\n",
       "    </tr>\n",
       "    <tr>\n",
       "      <th>836</th>\n",
       "      <td>Environment</td>\n",
       "      <td>Why make so much of fragmentary blue In here a...</td>\n",
       "      <td></td>\n",
       "      <td></td>\n",
       "    </tr>\n",
       "    <tr>\n",
       "      <th>837</th>\n",
       "      <td>Environment</td>\n",
       "      <td>Woman, I wish I didn't know your name. What co...</td>\n",
       "      <td></td>\n",
       "      <td></td>\n",
       "    </tr>\n",
       "    <tr>\n",
       "      <th>838</th>\n",
       "      <td>Environment</td>\n",
       "      <td>Yonder to the kiosk, beside the creek, Paddle ...</td>\n",
       "      <td></td>\n",
       "      <td></td>\n",
       "    </tr>\n",
       "    <tr>\n",
       "      <th>839</th>\n",
       "      <td>Environment</td>\n",
       "      <td>You come to fetch me from my work to-night Whe...</td>\n",
       "      <td></td>\n",
       "      <td></td>\n",
       "    </tr>\n",
       "    <tr>\n",
       "      <th>840</th>\n",
       "      <td>Environment</td>\n",
       "      <td>You see them through water and glass, (both li...</td>\n",
       "      <td></td>\n",
       "      <td></td>\n",
       "    </tr>\n",
       "  </tbody>\n",
       "</table>\n",
       "<p>837 rows × 4 columns</p>\n",
       "</div>"
      ],
      "text/plain": [
       "           Genre                                               Poem  \\\n",
       "1          Music                In the thick brushthey spend the...   \n",
       "2          Music     Storms are generous.                       ...   \n",
       "3          Music   —After Ana Mendieta Did you carry around the ...   \n",
       "4          Music   for Aja Sherrard at 20The portent may itself ...   \n",
       "5          Music   for Bob Marley, Bavaria, November 1980 Here i...   \n",
       "..           ...                                                ...   \n",
       "836  Environment  Why make so much of fragmentary blue In here a...   \n",
       "837  Environment  Woman, I wish I didn't know your name. What co...   \n",
       "838  Environment  Yonder to the kiosk, beside the creek, Paddle ...   \n",
       "839  Environment  You come to fetch me from my work to-night Whe...   \n",
       "840  Environment  You see them through water and glass, (both li...   \n",
       "\n",
       "    verify_class extract_text  \n",
       "1                              \n",
       "2                              \n",
       "3                              \n",
       "4                              \n",
       "5                              \n",
       "..           ...          ...  \n",
       "836                            \n",
       "837                            \n",
       "838                            \n",
       "839                            \n",
       "840                            \n",
       "\n",
       "[837 rows x 4 columns]"
      ]
     },
     "execution_count": 5,
     "metadata": {},
     "output_type": "execute_result"
    }
   ],
   "source": [
    "df"
   ]
  },
  {
   "cell_type": "code",
   "execution_count": 6,
   "metadata": {},
   "outputs": [
    {
     "name": "stderr",
     "output_type": "stream",
     "text": [
      "[nltk_data] Downloading package stopwords to\n",
      "[nltk_data]     C:\\Users\\paulw\\AppData\\Roaming\\nltk_data...\n",
      "[nltk_data]   Package stopwords is already up-to-date!\n",
      "c:\\Users\\paulw\\anaconda3\\envs\\semantic_scanner\\lib\\site-packages\\tqdm\\auto.py:21: TqdmWarning: IProgress not found. Please update jupyter and ipywidgets. See https://ipywidgets.readthedocs.io/en/stable/user_install.html\n",
      "  from .autonotebook import tqdm as notebook_tqdm\n",
      "c:\\Users\\paulw\\Documents\\QuantSpark\\semantic_scanner\\semantic_scanner.py:56: UserWarning: No samples found, please add samples to the KNN model before classifying or retrieving.\n",
      "  warnings.warn(\"No samples found, please add samples to the KNN model before classifying or retrieving.\")\n",
      "c:\\Users\\paulw\\Documents\\QuantSpark\\semantic_scanner\\semantic_scanner.py:249: UserWarning: Sample added, but KNN model not refit. Please refit the KNN model before classifying or retrieving.\n",
      "  warnings.warn(\"Sample added, but KNN model not refit. Please refit the KNN model before classifying or retrieving.\")\n"
     ]
    }
   ],
   "source": [
    "from semantic_scanner import SemanticScanner\n",
    "from embeddings import HFEmbeddings\n",
    "\n",
    "scanner = SemanticScanner(embeddings=HFEmbeddings())\n",
    "for i,row in df.iterrows():\n",
    "    label = row[\"Genre\"]\n",
    "    text = row[\"Poem\"]\n",
    "    verify_class = row[\"verify_class\"]\n",
    "    extract_text = row[\"extract_text\"]\n",
    "    scanner.add_sample(text=text, label=label, label_metadata={\"verify_class\":verify_class, \"extract_text\":extract_text})"
   ]
  },
  {
   "cell_type": "code",
   "execution_count": 1,
   "metadata": {},
   "outputs": [
    {
     "name": "stderr",
     "output_type": "stream",
     "text": [
      "[nltk_data] Downloading package stopwords to\n",
      "[nltk_data]     C:\\Users\\paulw\\AppData\\Roaming\\nltk_data...\n",
      "[nltk_data]   Package stopwords is already up-to-date!\n",
      "c:\\Users\\paulw\\anaconda3\\envs\\semantic_scanner\\lib\\site-packages\\tqdm\\auto.py:21: TqdmWarning: IProgress not found. Please update jupyter and ipywidgets. See https://ipywidgets.readthedocs.io/en/stable/user_install.html\n",
      "  from .autonotebook import tqdm as notebook_tqdm\n"
     ]
    }
   ],
   "source": [
    "from semantic_scanner import SemanticScanner\n",
    "from embeddings import HFEmbeddings\n",
    "\n",
    "scanner = SemanticScanner(embeddings=HFEmbeddings(),\n",
    "                          n_neighbors=10)"
   ]
  },
  {
   "cell_type": "code",
   "execution_count": 2,
   "metadata": {},
   "outputs": [],
   "source": [
    "import pandas as pd\n",
    "\n",
    "df = pd.read_csv(r\"C:\\Users\\paulw\\Documents\\QuantSpark\\semantic_scanner\\data\\Poem_classification - test_data.csv\")"
   ]
  },
  {
   "cell_type": "code",
   "execution_count": 3,
   "metadata": {},
   "outputs": [
    {
     "name": "stdout",
     "output_type": "stream",
     "text": [
      "Because today we did not leave this world,We now embody a prominence within it,Even amidst its indifference to our actions,Whether they be noiseless or not.After all, nonsense is its own type of silence,Lasting as long as the snow on yourTongue. You wonder why each eveningMust be filled with a turning\n",
      "Music\n"
     ]
    },
    {
     "data": {
      "text/plain": [
       "array([[0.4, 0.1, 0. , 0.5]])"
      ]
     },
     "execution_count": 3,
     "metadata": {},
     "output_type": "execute_result"
    }
   ],
   "source": [
    "row = df.iloc[2]\n",
    "text = row[\"Poem\"]\n",
    "label = row[\"Genre\"]\n",
    "\n",
    "print(text)\n",
    "print(label)\n",
    "\n",
    "scanner._classify(scanner._embed_chunks(text))\n"
   ]
  },
  {
   "cell_type": "code",
   "execution_count": 9,
   "metadata": {},
   "outputs": [],
   "source": [
    "import pandas as pd\n",
    "\n",
    "output = pd.read_csv(r\"C:\\Users\\paulw\\Documents\\QuantSpark\\semantic_scanner\\test.csv\")\n",
    "train = pd.read_csv(r\"C:\\Users\\paulw\\Documents\\QuantSpark\\semantic_scanner\\data\\clause_class_train.csv\")\n",
    "test = pd.read_csv(r\"C:\\Users\\paulw\\Documents\\QuantSpark\\semantic_scanner\\data\\clause_class_test.csv\")\n",
    "labels = pd.concat([train,test],axis=0).reset_index(drop=True)\n",
    "\n",
    "file = r\"C:\\Users\\paulw\\Documents\\QuantSpark\\semantic_scanner\\CUAD_v1\\full_contract_txt\\2ThemartComInc_19990826_10-12G_EX-10.10_6700288_EX-10.10_Co-Branding Agreement_ Agency Agreement.txt\""
   ]
  },
  {
   "cell_type": "code",
   "execution_count": 11,
   "metadata": {},
   "outputs": [
    {
     "data": {
      "text/plain": [
       "label\n",
       "Change of Control                             1\n",
       "Document Name                                 1\n",
       "Cap on Liability                              1\n",
       "Uncapped Liability                            1\n",
       "Revenue-Profit Sharing                        1\n",
       "Post-termination Services                     1\n",
       "Parties-Answer                                1\n",
       "Parties                                       1\n",
       "Non-Transferable License                      1\n",
       "License Grant                                 1\n",
       "Joint IP Ownership                            1\n",
       "Governing Law                                 1\n",
       "Notice Period to Terminate Renewal- Answer    1\n",
       "Anti-assignment                               1\n",
       "Notice Period to Terminate Renewal            1\n",
       "Renewal Term-Answer                           1\n",
       "Renewal Term                                  1\n",
       "Expiration Date-Answer                        1\n",
       "Expiration Date                               1\n",
       "Effective Date-Answer                         1\n",
       "Effective Date                                1\n",
       "Agreement Date-Answer                         1\n",
       "Agreement Date                                1\n",
       "Audit Rights                                  1\n",
       "Non-Compete                                   1\n",
       "Name: count, dtype: int64"
      ]
     },
     "execution_count": 11,
     "metadata": {},
     "output_type": "execute_result"
    }
   ],
   "source": [
    "labels[labels[\"source\"]==file.replace(\".txt\",\".pdf\").split(\"\\\\\")[-1]]['label'].value_counts()"
   ]
  },
  {
   "cell_type": "code",
   "execution_count": 14,
   "metadata": {},
   "outputs": [
    {
     "data": {
      "text/plain": [
       "classification\n",
       "not_important                  434\n",
       "Termination for Convenience      4\n",
       "License Grant                    2\n",
       "Revenue-Profit Sharing           1\n",
       "Audit Rights                     1\n",
       "IP Ownership Assignment          1\n",
       "Non-Transferable License         1\n",
       "Warranty Duration                1\n",
       "Renewal Term                     1\n",
       "Post-termination Services        1\n",
       "Name: count, dtype: int64"
      ]
     },
     "execution_count": 14,
     "metadata": {},
     "output_type": "execute_result"
    }
   ],
   "source": [
    "output['classification'].value_counts()"
   ]
  }
 ],
 "metadata": {
  "kernelspec": {
   "display_name": "semantic_scanner",
   "language": "python",
   "name": "python3"
  },
  "language_info": {
   "codemirror_mode": {
    "name": "ipython",
    "version": 3
   },
   "file_extension": ".py",
   "mimetype": "text/x-python",
   "name": "python",
   "nbconvert_exporter": "python",
   "pygments_lexer": "ipython3",
   "version": "3.9.18"
  }
 },
 "nbformat": 4,
 "nbformat_minor": 2
}
